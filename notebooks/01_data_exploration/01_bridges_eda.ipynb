{
 "cells": [
  {
   "cell_type": "markdown",
   "id": "347a8bec",
   "metadata": {},
   "source": [
    "# Bridge Infrastructure Data Exploration\n",
    "\n",
    "This notebook explores the bridge infrastructure data to understand:\n",
    "- Data quality and completeness\n",
    "- Distribution of bridge characteristics\n",
    "- Geographic patterns\n",
    "- Condition trends and correlations"
   ]
  },
  {
   "cell_type": "code",
   "execution_count": null,
   "id": "46809026",
   "metadata": {},
   "outputs": [],
   "source": [
    "# Import required libraries\n",
    "import pandas as pd\n",
    "import numpy as np\n",
    "import matplotlib.pyplot as plt\n",
    "import seaborn as sns\n",
    "import folium\n",
    "from pathlib import Path\n",
    "import warnings\n",
    "warnings.filterwarnings('ignore')\n",
    "\n",
    "# Set plotting style\n",
    "plt.style.use('seaborn-v0_8')\n",
    "sns.set_palette('husl')\n",
    "\n",
    "# Configuration\n",
    "pd.set_option('display.max_columns', None)\n",
    "pd.set_option('display.max_rows', 100)"
   ]
  },
  {
   "cell_type": "markdown",
   "id": "fa530800",
   "metadata": {},
   "source": [
    "## 1. Data Loading and Initial Inspection"
   ]
  },
  {
   "cell_type": "code",
   "execution_count": null,
   "id": "642670e3",
   "metadata": {},
   "outputs": [],
   "source": [
    "# Load bridge data\n",
    "data_path = Path('../data/raw/bridges')\n",
    "\n",
    "# Load inventory data\n",
    "inventory_df = pd.read_csv(data_path / 'bridge_inventory.csv')\n",
    "print(f\"Bridge inventory: {inventory_df.shape[0]} rows, {inventory_df.shape[1]} columns\")\n",
    "\n",
    "# Load conditions data\n",
    "conditions_df = pd.read_csv(data_path / 'bridge_conditions.csv')\n",
    "print(f\"Bridge conditions: {conditions_df.shape[0]} rows, {conditions_df.shape[1]} columns\")\n",
    "\n",
    "# Display first few rows\n",
    "print(\"\\nBridge Inventory Data:\")\n",
    "display(inventory_df.head())\n",
    "\n",
    "print(\"\\nBridge Conditions Data:\")\n",
    "display(conditions_df.head())"
   ]
  },
  {
   "cell_type": "code",
   "execution_count": null,
   "id": "fecee52d",
   "metadata": {},
   "outputs": [],
   "source": [
    "# Data info and missing values\n",
    "print(\"=== BRIDGE INVENTORY DATA INFO ===\")\n",
    "print(inventory_df.info())\n",
    "print(\"\\nMissing Values:\")\n",
    "print(inventory_df.isnull().sum())\n",
    "\n",
    "print(\"\\n\\n=== BRIDGE CONDITIONS DATA INFO ===\")\n",
    "print(conditions_df.info())\n",
    "print(\"\\nMissing Values:\")\n",
    "print(conditions_df.isnull().sum())"
   ]
  },
  {
   "cell_type": "markdown",
   "id": "f80145d0",
   "metadata": {},
   "source": [
    "## 2. Data Quality Assessment"
   ]
  },
  {
   "cell_type": "code",
   "execution_count": null,
   "id": "cee8d9b8",
   "metadata": {},
   "outputs": [],
   "source": [
    "# Merge datasets\n",
    "merged_df = pd.merge(inventory_df, conditions_df, on='bridge_id', how='inner')\n",
    "print(f\"Merged dataset: {merged_df.shape[0]} rows, {merged_df.shape[1]} columns\")\n",
    "\n",
    "# Basic statistics\n",
    "print(\"\\n=== BASIC STATISTICS ===\")\n",
    "display(merged_df.describe())"
   ]
  },
  {
   "cell_type": "markdown",
   "id": "12159f16",
   "metadata": {},
   "source": [
    "## 3. Bridge Characteristics Analysis"
   ]
  },
  {
   "cell_type": "code",
   "execution_count": null,
   "id": "67436051",
   "metadata": {},
   "outputs": [],
   "source": [
    "# Create visualizations\n",
    "fig, axes = plt.subplots(2, 3, figsize=(18, 12))\n",
    "\n",
    "# Age distribution\n",
    "current_year = 2023\n",
    "merged_df['age'] = current_year - merged_df['construction_year']\n",
    "axes[0, 0].hist(merged_df['age'], bins=15, alpha=0.7, edgecolor='black')\n",
    "axes[0, 0].set_title('Bridge Age Distribution')\n",
    "axes[0, 0].set_xlabel('Age (years)')\n",
    "axes[0, 0].set_ylabel('Count')\n",
    "\n",
    "# Length distribution\n",
    "axes[0, 1].hist(merged_df['length_m'], bins=15, alpha=0.7, edgecolor='black', color='orange')\n",
    "axes[0, 1].set_title('Bridge Length Distribution')\n",
    "axes[0, 1].set_xlabel('Length (meters)')\n",
    "axes[0, 1].set_ylabel('Count')\n",
    "\n",
    "# Material distribution\n",
    "material_counts = merged_df['material'].value_counts()\n",
    "axes[0, 2].pie(material_counts.values, labels=material_counts.index, autopct='%1.1f%%')\n",
    "axes[0, 2].set_title('Bridge Material Distribution')\n",
    "\n",
    "# Condition score distribution\n",
    "axes[1, 0].hist(merged_df['condition_score'], bins=15, alpha=0.7, edgecolor='black', color='green')\n",
    "axes[1, 0].set_title('Condition Score Distribution')\n",
    "axes[1, 0].set_xlabel('Condition Score')\n",
    "axes[1, 0].set_ylabel('Count')\n",
    "\n",
    "# Overall rating distribution\n",
    "axes[1, 1].hist(merged_df['overall_rating'], bins=15, alpha=0.7, edgecolor='black', color='red')\n",
    "axes[1, 1].set_title('Overall Rating Distribution')\n",
    "axes[1, 1].set_xlabel('Overall Rating')\n",
    "axes[1, 1].set_ylabel('Count')\n",
    "\n",
    "# Maintenance needed\n",
    "maint_counts = merged_df['maintenance_needed'].value_counts()\n",
    "axes[1, 2].bar(maint_counts.index.astype(str), maint_counts.values, alpha=0.7)\n",
    "axes[1, 2].set_title('Maintenance Needed')\n",
    "axes[1, 2].set_xlabel('Maintenance Needed')\n",
    "axes[1, 2].set_ylabel('Count')\n",
    "\n",
    "plt.tight_layout()\n",
    "plt.show()"
   ]
  },
  {
   "cell_type": "markdown",
   "id": "631faf8b",
   "metadata": {},
   "source": [
    "## 4. Geographic Distribution Analysis"
   ]
  },
  {
   "cell_type": "code",
   "execution_count": null,
   "id": "798cb615",
   "metadata": {},
   "outputs": [],
   "source": [
    "# Create a map of bridge locations\n",
    "center_lat = merged_df['latitude'].mean()\n",
    "center_lon = merged_df['longitude'].mean()\n",
    "\n",
    "# Create base map\n",
    "m = folium.Map(location=[center_lat, center_lon], zoom_start=11)\n",
    "\n",
    "# Add bridges to map with color coding by condition\n",
    "def get_color(condition_score):\n",
    "    if condition_score >= 8.0:\n",
    "        return 'green'\n",
    "    elif condition_score >= 7.0:\n",
    "        return 'yellow'\n",
    "    elif condition_score >= 6.0:\n",
    "        return 'orange'\n",
    "    else:\n",
    "        return 'red'\n",
    "\n",
    "for idx, row in merged_df.iterrows():\n",
    "    folium.CircleMarker(\n",
    "        location=[row['latitude'], row['longitude']],\n",
    "        radius=8,\n",
    "        popup=f\"{row['name']}\\nCondition: {row['condition_score']}\",\n",
    "        color=get_color(row['condition_score']),\n",
    "        fill=True,\n",
    "        opacity=0.7\n",
    "    ).add_to(m)\n",
    "\n",
    "# Add legend\n",
    "legend_html = '''\n",
    "<div style=\"position: fixed; \n",
    "            top: 10px; right: 10px; width: 150px; height: 120px; \n",
    "            background-color: white; border:2px solid grey; z-index:9999; \n",
    "            font-size:14px; padding: 10px\">\n",
    "<h4>Bridge Condition</h4>\n",
    "<i class=\"fa fa-circle\" style=\"color:green\"></i> Excellent (8.0+)<br>\n",
    "<i class=\"fa fa-circle\" style=\"color:yellow\"></i> Good (7.0-7.9)<br>\n",
    "<i class=\"fa fa-circle\" style=\"color:orange\"></i> Fair (6.0-6.9)<br>\n",
    "<i class=\"fa fa-circle\" style=\"color:red\"></i> Poor (<6.0)\n",
    "</div>\n",
    "'''\n",
    "m.get_root().html.add_child(folium.Element(legend_html))\n",
    "\n",
    "# Display map\n",
    "m"
   ]
  },
  {
   "cell_type": "markdown",
   "id": "689fac01",
   "metadata": {},
   "source": [
    "## 5. Correlation Analysis"
   ]
  },
  {
   "cell_type": "code",
   "execution_count": null,
   "id": "c2946212",
   "metadata": {},
   "outputs": [],
   "source": [
    "# Select numeric columns for correlation analysis\n",
    "numeric_cols = ['construction_year', 'length_m', 'width_m', 'condition_score', \n",
    "                'overall_rating', 'age']\n",
    "\n",
    "# Create correlation matrix\n",
    "correlation_matrix = merged_df[numeric_cols].corr()\n",
    "\n",
    "# Plot correlation heatmap\n",
    "plt.figure(figsize=(10, 8))\n",
    "sns.heatmap(correlation_matrix, annot=True, cmap='coolwarm', center=0,\n",
    "            square=True, fmt='.2f', cbar_kws={'shrink': 0.8})\n",
    "plt.title('Bridge Characteristics Correlation Matrix')\n",
    "plt.tight_layout()\n",
    "plt.show()\n",
    "\n",
    "print(\"\\n=== KEY CORRELATIONS ===\")\n",
    "# Find highest correlations with condition score\n",
    "condition_corrs = correlation_matrix['condition_score'].abs().sort_values(ascending=False)\n",
    "print(\"Correlations with Condition Score:\")\n",
    "for var, corr in condition_corrs.items():\n",
    "    if var != 'condition_score':\n",
    "        print(f\"{var}: {corr:.3f}\")"
   ]
  },
  {
   "cell_type": "markdown",
   "id": "50ab14b8",
   "metadata": {},
   "source": [
    "## 6. Condition Analysis by Categories"
   ]
  },
  {
   "cell_type": "code",
   "execution_count": null,
   "id": "8dc21bd3",
   "metadata": {},
   "outputs": [],
   "source": [
    "# Analyze condition by material type\n",
    "fig, axes = plt.subplots(1, 3, figsize=(18, 6))\n",
    "\n",
    "# Condition by material\n",
    "sns.boxplot(data=merged_df, x='material', y='condition_score', ax=axes[0])\n",
    "axes[0].set_title('Condition Score by Material Type')\n",
    "axes[0].tick_params(axis='x', rotation=45)\n",
    "\n",
    "# Condition by age groups\n",
    "merged_df['age_group'] = pd.cut(merged_df['age'], \n",
    "                               bins=[0, 15, 30, 45, 100], \n",
    "                               labels=['0-15', '16-30', '31-45', '45+'])\n",
    "sns.boxplot(data=merged_df, x='age_group', y='condition_score', ax=axes[1])\n",
    "axes[1].set_title('Condition Score by Age Group')\n",
    "\n",
    "# Condition by length categories\n",
    "merged_df['length_category'] = pd.cut(merged_df['length_m'], \n",
    "                                     bins=[0, 50, 100, 150, 1000], \n",
    "                                     labels=['Short', 'Medium', 'Long', 'Very Long'])\n",
    "sns.boxplot(data=merged_df, x='length_category', y='condition_score', ax=axes[2])\n",
    "axes[2].set_title('Condition Score by Length Category')\n",
    "\n",
    "plt.tight_layout()\n",
    "plt.show()"
   ]
  },
  {
   "cell_type": "markdown",
   "id": "252339f2",
   "metadata": {},
   "source": [
    "## 7. Summary Statistics and Insights"
   ]
  },
  {
   "cell_type": "code",
   "execution_count": null,
   "id": "44794a15",
   "metadata": {},
   "outputs": [],
   "source": [
    "print(\"=== BRIDGE DATA SUMMARY ===\")\n",
    "print(f\"Total bridges analyzed: {len(merged_df)}\")\n",
    "print(f\"Average age: {merged_df['age'].mean():.1f} years\")\n",
    "print(f\"Average condition score: {merged_df['condition_score'].mean():.2f}\")\n",
    "print(f\"Bridges needing maintenance: {merged_df['maintenance_needed'].sum()}\")\n",
    "print(f\"Percentage needing maintenance: {(merged_df['maintenance_needed'].sum() / len(merged_df)) * 100:.1f}%\")\n",
    "\n",
    "print(\"\\n=== CONDITION DISTRIBUTION ===\")\n",
    "condition_bins = pd.cut(merged_df['condition_score'], \n",
    "                       bins=[0, 5, 6, 7, 8, 10], \n",
    "                       labels=['Poor', 'Fair', 'Good', 'Very Good', 'Excellent'])\n",
    "condition_dist = condition_bins.value_counts().sort_index()\n",
    "for condition, count in condition_dist.items():\n",
    "    percentage = (count / len(merged_df)) * 100\n",
    "    print(f\"{condition}: {count} bridges ({percentage:.1f}%)\")\n",
    "\n",
    "print(\"\\n=== MATERIAL ANALYSIS ===\")\n",
    "material_stats = merged_df.groupby('material').agg({\n",
    "    'condition_score': ['count', 'mean', 'std'],\n",
    "    'age': 'mean',\n",
    "    'maintenance_needed': 'sum'\n",
    "}).round(2)\n",
    "print(material_stats)\n",
    "\n",
    "print(\"\\n=== KEY INSIGHTS ===\")\n",
    "print(\"1. Age-Condition Relationship:\")\n",
    "age_condition_corr = merged_df['age'].corr(merged_df['condition_score'])\n",
    "print(f\"   - Correlation between age and condition: {age_condition_corr:.3f}\")\n",
    "\n",
    "print(\"\\n2. Material Performance:\")\n",
    "best_material = merged_df.groupby('material')['condition_score'].mean().idxmax()\n",
    "best_score = merged_df.groupby('material')['condition_score'].mean().max()\n",
    "print(f\"   - Best performing material: {best_material} (avg score: {best_score:.2f})\")\n",
    "\n",
    "print(\"\\n3. Maintenance Priority:\")\n",
    "urgent_bridges = merged_df[merged_df['condition_score'] < 6.0]\n",
    "print(f\"   - Bridges requiring urgent attention: {len(urgent_bridges)}\")\n",
    "if len(urgent_bridges) > 0:\n",
    "    print(f\"   - Average age of urgent bridges: {urgent_bridges['age'].mean():.1f} years\")"
   ]
  }
 ],
 "metadata": {
  "language_info": {
   "name": "python"
  }
 },
 "nbformat": 4,
 "nbformat_minor": 5
}
